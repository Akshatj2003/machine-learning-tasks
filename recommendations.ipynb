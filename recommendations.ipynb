{
 "cells": [
  {
   "cell_type": "code",
   "execution_count": 1,
   "metadata": {},
   "outputs": [
    {
     "name": "stdout",
     "output_type": "stream",
     "text": [
      "Restaurant ID           0\n",
      "Restaurant Name         0\n",
      "Country Code            0\n",
      "City                    0\n",
      "Address                 0\n",
      "Locality                0\n",
      "Locality Verbose        0\n",
      "Longitude               0\n",
      "Latitude                0\n",
      "Cuisines                9\n",
      "Average Cost for two    0\n",
      "Currency                0\n",
      "Has Table booking       0\n",
      "Has Online delivery     0\n",
      "Is delivering now       0\n",
      "Switch to order menu    0\n",
      "Price range             0\n",
      "Aggregate rating        0\n",
      "Rating color            0\n",
      "Rating text             0\n",
      "Votes                   0\n",
      "dtype: int64\n"
     ]
    }
   ],
   "source": [
    "import pandas as pd\n",
    "\n",
    "# Load the dataset\n",
    "df = pd.read_csv(r'C:\\Users\\text0\\AppData\\Local\\Programs\\Microsoft VS Code\\Dataset .csv')\n",
    "\n",
    "# Check for missing values\n",
    "print(df.isnull().sum())\n",
    "\n",
    "# Impute missing values with mean\n",
    "df['Aggregate rating'] = df['Aggregate rating'].fillna(df['Aggregate rating'].mean())"
   ]
  },
  {
   "cell_type": "code",
   "execution_count": 6,
   "metadata": {},
   "outputs": [],
   "source": [
    "from sklearn.preprocessing import LabelEncoder\n",
    "\n",
    "# Encode cuisine and price_range\n",
    "le = LabelEncoder()\n",
    "df['cuisine_encoded'] = le.fit_transform(df['Cuisines'])\n",
    "df['price_range_encoded'] = le.fit_transform(df['Price range'])"
   ]
  },
  {
   "cell_type": "code",
   "execution_count": 22,
   "metadata": {},
   "outputs": [],
   "source": [
    "def get_recommendations(cuisine_preference, price_range_preference):\n",
    "    # Filter restaurants based on user preferences\n",
    "    filtered_df = df[(df['cuisine_encoded'] == cuisine_preference) &\n",
    "                     (df['price_range_encoded'] == price_range_preference)].copy()\n",
    "\n",
    "    # Calculate similarity scores based on cuisine and price range\n",
    "    filtered_df['similarity_scores'] = (filtered_df['cuisine_encoded'] == cuisine_preference) * 0.5 + (filtered_df['price_range_encoded'] == price_range_preference) * 0.5\n",
    "\n",
    "    # Ensure 'name' column is included in filtered_df\n",
    "    N = 5\n",
    "    recommended_restaurants = filtered_df.nlargest(N, 'similarity_scores')['Restaurant Name'].tolist()\n",
    "\n",
    "    return recommended_restaurants\n"
   ]
  },
  {
   "cell_type": "code",
   "execution_count": 23,
   "metadata": {},
   "outputs": [
    {
     "name": "stdout",
     "output_type": "stream",
     "text": [
      "Recommended restaurants:\n",
      "['Al Fanoos']\n"
     ]
    }
   ],
   "source": [
    "# Sample user preferences\n",
    "cuisine_preference = 2  # Italian\n",
    "price_range_preference = 1  # Mid-range\n",
    "\n",
    "# Get recommended restaurants\n",
    "recommended_restaurants = get_recommendations(cuisine_preference, price_range_preference)\n",
    "\n",
    "print(\"Recommended restaurants:\")\n",
    "print(recommended_restaurants)"
   ]
  },
  {
   "cell_type": "code",
   "execution_count": 31,
   "metadata": {},
   "outputs": [
    {
     "name": "stdout",
     "output_type": "stream",
     "text": [
      "Index(['Restaurant ID', 'Restaurant Name', 'Country Code', 'City', 'Address',\n",
      "       'Locality', 'Locality Verbose', 'Longitude', 'Latitude', 'Cuisines',\n",
      "       'Average Cost for two', 'Currency', 'Has Table booking',\n",
      "       'Has Online delivery', 'Is delivering now', 'Switch to order menu',\n",
      "       'Price range', 'Aggregate rating', 'Rating color', 'Rating text',\n",
      "       'Votes'],\n",
      "      dtype='object')\n"
     ]
    }
   ],
   "source": [
    "import matplotlib.pyplot as plt\n",
    "import pandas as pd\n",
    "\n",
    "# Load the dataset\n",
    "df = pd.read_csv(r'C:\\Users\\text0\\AppData\\Local\\Programs\\Microsoft VS Code\\Dataset .csv')\n",
    "\n",
    "# Check the column names\n",
    "print(df.columns)"
   ]
  },
  {
   "cell_type": "code",
   "execution_count": 32,
   "metadata": {},
   "outputs": [],
   "source": [
    "# Assuming you have the recommended restaurants and actual restaurants\n",
    "if 'Restaurant Name' in df.columns:\n",
    "    recommended_restaurants = df['Restaurant Name'].tolist()\n",
    "    actual_restaurants = df['Restaurant Name'].tolist()  # Replace with actual actual restaurants\n",
    "else:\n",
    "    print(\"The column 'Restaurant Name' does not exist in the dataset.\")"
   ]
  },
  {
   "cell_type": "code",
   "execution_count": 33,
   "metadata": {},
   "outputs": [
    {
     "data": {
      "image/png": "[encoded data removed]",
      "text/plain": [
       "<Figure size 800x600 with 1 Axes>"
      ]
     },
     "metadata": {},
     "output_type": "display_data"
    }
   ],
   "source": [
    " # You can add code here to handle this situation\n",
    "\n",
    "true_positives = len(set(recommended_restaurants) & set(actual_restaurants))\n",
    "false_positives = len(set(recommended_restaurants) - set(actual_restaurants))\n",
    "false_negatives = len(set(actual_restaurants) - set(recommended_restaurants))\n",
    "\n",
    "precision = true_positives / (true_positives + false_positives) if (true_positives + false_positives)!= 0 else 0\n",
    "recall = true_positives / (true_positives + false_negatives) if (true_positives + false_negatives)!= 0 else 0\n",
    "\n",
    "if precision + recall!= 0:\n",
    "    f1 = 2 * (precision * recall) / (precision + recall)\n",
    "else:\n",
    "    f1 = 0\n",
    "\n",
    "metrics = ['Precision', 'Recall', 'F1-score']\n",
    "values = [precision, recall, f1]\n",
    "\n",
    "plt.figure(figsize=(8, 6))  # Adjust figure size if needed\n",
    "plt.bar(metrics, values)\n",
    "plt.title('Model Accuracy')\n",
    "plt.xlabel('Metric')\n",
    "plt.ylabel('Value')\n",
    "plt.show()"
   ]
  }
 ],
 "metadata": {
  "kernelspec": {
   "display_name": "Python 3",
   "language": "python",
   "name": "python3"
  },
  "language_info": {
   "codemirror_mode": {
    "name": "ipython",
    "version": 3
   },
   "file_extension": ".py",
   "mimetype": "text/x-python",
   "name": "python",
   "nbconvert_exporter": "python",
   "pygments_lexer": "ipython3",
   "version": "3.11.9"
  }
 },
 "nbformat": 4,
 "nbformat_minor": 2
}
